{
 "cells": [
  {
   "cell_type": "code",
   "execution_count": 10,
   "id": "328ad695",
   "metadata": {},
   "outputs": [],
   "source": [
    "import warnings\n",
    "import os\n",
    "os.environ[\"TF_CPP_MIN_LOG_LEVEL\"] = \"3\"  \n",
    "warnings.filterwarnings(\"ignore\")"
   ]
  },
  {
   "cell_type": "code",
   "execution_count": 2,
   "id": "0d66e067",
   "metadata": {},
   "outputs": [
    {
     "data": {
      "text/plain": [
       "True"
      ]
     },
     "execution_count": 2,
     "metadata": {},
     "output_type": "execute_result"
    }
   ],
   "source": [
    "from langchain_huggingface import HuggingFaceEmbeddings\n",
    "from langchain_groq import ChatGroq\n",
    "import pandas as pd\n",
    "\n",
    "from dotenv import load_dotenv\n",
    "\n",
    "load_dotenv()"
   ]
  },
  {
   "cell_type": "code",
   "execution_count": 3,
   "id": "d1cbf1f5",
   "metadata": {},
   "outputs": [],
   "source": [
    "import psycopg\n",
    "from psycopg.rows import dict_row\n",
    "\n",
    "db_host = os.getenv(\"DB_HOST\")\n",
    "db_port = os.getenv(\"DB_PORT\")\n",
    "db_name = os.getenv(\"DB_NAME\")\n",
    "db_user = os.getenv(\"DB_USER\")\n",
    "db_password = os.getenv(\"DB_PASSWORD\")\n",
    "pg_collection = os.getenv(\"PG_COLLECTION\")\n"
   ]
  },
  {
   "cell_type": "code",
   "execution_count": 4,
   "id": "67c870da",
   "metadata": {},
   "outputs": [],
   "source": [
    "conninfo = f\"host={db_host} port={db_port} dbname={db_name} user={db_user} password={db_password}\""
   ]
  },
  {
   "cell_type": "code",
   "execution_count": 5,
   "id": "418f4b01",
   "metadata": {},
   "outputs": [
    {
     "name": "stdout",
     "output_type": "stream",
     "text": [
      "pgvector ready to use.\n"
     ]
    }
   ],
   "source": [
    "with psycopg.connect(conninfo, autocommit=True) as conn:\n",
    "    with conn.cursor(row_factory=dict_row) as cur:\n",
    "        cur.execute(\"CREATE EXTENSION IF NOT EXISTS vector;\")\n",
    "        cur.execute(f'''\n",
    "            CREATE TABLE IF NOT EXISTS {pg_collection} (\n",
    "                id UUID PRIMARY KEY DEFAULT gen_random_uuid(),\n",
    "                source TEXT,\n",
    "                chunk_no INT,\n",
    "                content TEXT,\n",
    "                metadata JSONB,\n",
    "                embedding VECTOR(1024)\n",
    "            );\n",
    "        ''')\n",
    "        \n",
    "        cur.execute(f'''\n",
    "            DO $$\n",
    "            BEGIN\n",
    "                IF NOT EXISTS (\n",
    "                  SELECT 1 FROM pg_indexes WHERE indexname = 'idx_{pg_collection}_embedding'\n",
    "                ) THEN\n",
    "                  EXECUTE 'CREATE INDEX idx_{pg_collection}_embedding ON {pg_collection} USING ivfflat (embedding vector_cosine_ops) WITH (lists = 100)';\n",
    "                END IF;\n",
    "            END $$;\n",
    "        ''')\n",
    "\n",
    "print(\"pgvector ready to use.\")"
   ]
  },
  {
   "cell_type": "markdown",
   "id": "74a6982f",
   "metadata": {},
   "source": [
    "## Load Dataset"
   ]
  },
  {
   "cell_type": "code",
   "execution_count": 6,
   "id": "0d250529",
   "metadata": {},
   "outputs": [],
   "source": [
    "df = pd.read_csv('../data/supermarket_preprocessed.csv')"
   ]
  },
  {
   "cell_type": "code",
   "execution_count": 7,
   "id": "bfdef064",
   "metadata": {},
   "outputs": [
    {
     "data": {
      "application/vnd.microsoft.datawrangler.viewer.v0+json": {
       "columns": [
        {
         "name": "index",
         "rawType": "int64",
         "type": "integer"
        },
        {
         "name": "Invoice ID",
         "rawType": "object",
         "type": "string"
        },
        {
         "name": "Branch",
         "rawType": "object",
         "type": "string"
        },
        {
         "name": "City",
         "rawType": "object",
         "type": "string"
        },
        {
         "name": "Customer type",
         "rawType": "object",
         "type": "string"
        },
        {
         "name": "Gender",
         "rawType": "object",
         "type": "string"
        },
        {
         "name": "Product line",
         "rawType": "object",
         "type": "string"
        },
        {
         "name": "Unit price",
         "rawType": "float64",
         "type": "float"
        },
        {
         "name": "Quantity",
         "rawType": "int64",
         "type": "integer"
        },
        {
         "name": "Tax 5%",
         "rawType": "float64",
         "type": "float"
        },
        {
         "name": "Sales",
         "rawType": "float64",
         "type": "float"
        },
        {
         "name": "Date",
         "rawType": "object",
         "type": "string"
        },
        {
         "name": "Time",
         "rawType": "object",
         "type": "string"
        },
        {
         "name": "Payment",
         "rawType": "object",
         "type": "string"
        },
        {
         "name": "cogs",
         "rawType": "float64",
         "type": "float"
        },
        {
         "name": "gross margin percentage",
         "rawType": "float64",
         "type": "float"
        },
        {
         "name": "gross income",
         "rawType": "float64",
         "type": "float"
        },
        {
         "name": "Rating",
         "rawType": "float64",
         "type": "float"
        },
        {
         "name": "Hour",
         "rawType": "int64",
         "type": "integer"
        },
        {
         "name": "Hour_label",
         "rawType": "object",
         "type": "string"
        },
        {
         "name": "Month",
         "rawType": "int64",
         "type": "integer"
        },
        {
         "name": "Weekday",
         "rawType": "object",
         "type": "string"
        }
       ],
       "ref": "059baf05-8263-4ba1-92c4-a4de2cca3742",
       "rows": [
        [
         "0",
         "750-67-8428",
         "Alex",
         "Yangon",
         "Member",
         "Female",
         "Health and beauty",
         "74.69",
         "7",
         "26.1415",
         "548.9715",
         "2019-01-05",
         "1900-01-01 13:08:00",
         "Ewallet",
         "522.83",
         "4.761904762",
         "26.1415",
         "9.1",
         "13",
         "01 PM",
         "1",
         "Saturday"
        ],
        [
         "1",
         "226-31-3081",
         "Giza",
         "Naypyitaw",
         "Normal",
         "Female",
         "Electronic accessories",
         "15.28",
         "5",
         "3.82",
         "80.22",
         "2019-03-08",
         "1900-01-01 10:29:00",
         "Cash",
         "76.4",
         "4.761904762",
         "3.82",
         "9.6",
         "10",
         "10 AM",
         "3",
         "Friday"
        ],
        [
         "2",
         "631-41-3108",
         "Alex",
         "Yangon",
         "Normal",
         "Female",
         "Home and lifestyle",
         "46.33",
         "7",
         "16.2155",
         "340.5255",
         "2019-03-03",
         "1900-01-01 13:23:00",
         "Credit card",
         "324.31",
         "4.761904762",
         "16.2155",
         "7.4",
         "13",
         "01 PM",
         "3",
         "Sunday"
        ],
        [
         "3",
         "123-19-1176",
         "Alex",
         "Yangon",
         "Member",
         "Female",
         "Health and beauty",
         "58.22",
         "8",
         "23.288",
         "489.048",
         "2019-01-27",
         "1900-01-01 20:33:00",
         "Ewallet",
         "465.76",
         "4.761904762",
         "23.288",
         "8.4",
         "20",
         "08 PM",
         "1",
         "Sunday"
        ],
        [
         "4",
         "373-73-7910",
         "Alex",
         "Yangon",
         "Member",
         "Female",
         "Sports and travel",
         "86.31",
         "7",
         "30.2085",
         "634.3785",
         "2019-02-08",
         "1900-01-01 10:37:00",
         "Ewallet",
         "604.17",
         "4.761904762",
         "30.2085",
         "5.3",
         "10",
         "10 AM",
         "2",
         "Friday"
        ]
       ],
       "shape": {
        "columns": 21,
        "rows": 5
       }
      },
      "text/html": [
       "<div>\n",
       "<style scoped>\n",
       "    .dataframe tbody tr th:only-of-type {\n",
       "        vertical-align: middle;\n",
       "    }\n",
       "\n",
       "    .dataframe tbody tr th {\n",
       "        vertical-align: top;\n",
       "    }\n",
       "\n",
       "    .dataframe thead th {\n",
       "        text-align: right;\n",
       "    }\n",
       "</style>\n",
       "<table border=\"1\" class=\"dataframe\">\n",
       "  <thead>\n",
       "    <tr style=\"text-align: right;\">\n",
       "      <th></th>\n",
       "      <th>Invoice ID</th>\n",
       "      <th>Branch</th>\n",
       "      <th>City</th>\n",
       "      <th>Customer type</th>\n",
       "      <th>Gender</th>\n",
       "      <th>Product line</th>\n",
       "      <th>Unit price</th>\n",
       "      <th>Quantity</th>\n",
       "      <th>Tax 5%</th>\n",
       "      <th>Sales</th>\n",
       "      <th>...</th>\n",
       "      <th>Time</th>\n",
       "      <th>Payment</th>\n",
       "      <th>cogs</th>\n",
       "      <th>gross margin percentage</th>\n",
       "      <th>gross income</th>\n",
       "      <th>Rating</th>\n",
       "      <th>Hour</th>\n",
       "      <th>Hour_label</th>\n",
       "      <th>Month</th>\n",
       "      <th>Weekday</th>\n",
       "    </tr>\n",
       "  </thead>\n",
       "  <tbody>\n",
       "    <tr>\n",
       "      <th>0</th>\n",
       "      <td>750-67-8428</td>\n",
       "      <td>Alex</td>\n",
       "      <td>Yangon</td>\n",
       "      <td>Member</td>\n",
       "      <td>Female</td>\n",
       "      <td>Health and beauty</td>\n",
       "      <td>74.69</td>\n",
       "      <td>7</td>\n",
       "      <td>26.1415</td>\n",
       "      <td>548.9715</td>\n",
       "      <td>...</td>\n",
       "      <td>1900-01-01 13:08:00</td>\n",
       "      <td>Ewallet</td>\n",
       "      <td>522.83</td>\n",
       "      <td>4.761905</td>\n",
       "      <td>26.1415</td>\n",
       "      <td>9.1</td>\n",
       "      <td>13</td>\n",
       "      <td>01 PM</td>\n",
       "      <td>1</td>\n",
       "      <td>Saturday</td>\n",
       "    </tr>\n",
       "    <tr>\n",
       "      <th>1</th>\n",
       "      <td>226-31-3081</td>\n",
       "      <td>Giza</td>\n",
       "      <td>Naypyitaw</td>\n",
       "      <td>Normal</td>\n",
       "      <td>Female</td>\n",
       "      <td>Electronic accessories</td>\n",
       "      <td>15.28</td>\n",
       "      <td>5</td>\n",
       "      <td>3.8200</td>\n",
       "      <td>80.2200</td>\n",
       "      <td>...</td>\n",
       "      <td>1900-01-01 10:29:00</td>\n",
       "      <td>Cash</td>\n",
       "      <td>76.40</td>\n",
       "      <td>4.761905</td>\n",
       "      <td>3.8200</td>\n",
       "      <td>9.6</td>\n",
       "      <td>10</td>\n",
       "      <td>10 AM</td>\n",
       "      <td>3</td>\n",
       "      <td>Friday</td>\n",
       "    </tr>\n",
       "    <tr>\n",
       "      <th>2</th>\n",
       "      <td>631-41-3108</td>\n",
       "      <td>Alex</td>\n",
       "      <td>Yangon</td>\n",
       "      <td>Normal</td>\n",
       "      <td>Female</td>\n",
       "      <td>Home and lifestyle</td>\n",
       "      <td>46.33</td>\n",
       "      <td>7</td>\n",
       "      <td>16.2155</td>\n",
       "      <td>340.5255</td>\n",
       "      <td>...</td>\n",
       "      <td>1900-01-01 13:23:00</td>\n",
       "      <td>Credit card</td>\n",
       "      <td>324.31</td>\n",
       "      <td>4.761905</td>\n",
       "      <td>16.2155</td>\n",
       "      <td>7.4</td>\n",
       "      <td>13</td>\n",
       "      <td>01 PM</td>\n",
       "      <td>3</td>\n",
       "      <td>Sunday</td>\n",
       "    </tr>\n",
       "    <tr>\n",
       "      <th>3</th>\n",
       "      <td>123-19-1176</td>\n",
       "      <td>Alex</td>\n",
       "      <td>Yangon</td>\n",
       "      <td>Member</td>\n",
       "      <td>Female</td>\n",
       "      <td>Health and beauty</td>\n",
       "      <td>58.22</td>\n",
       "      <td>8</td>\n",
       "      <td>23.2880</td>\n",
       "      <td>489.0480</td>\n",
       "      <td>...</td>\n",
       "      <td>1900-01-01 20:33:00</td>\n",
       "      <td>Ewallet</td>\n",
       "      <td>465.76</td>\n",
       "      <td>4.761905</td>\n",
       "      <td>23.2880</td>\n",
       "      <td>8.4</td>\n",
       "      <td>20</td>\n",
       "      <td>08 PM</td>\n",
       "      <td>1</td>\n",
       "      <td>Sunday</td>\n",
       "    </tr>\n",
       "    <tr>\n",
       "      <th>4</th>\n",
       "      <td>373-73-7910</td>\n",
       "      <td>Alex</td>\n",
       "      <td>Yangon</td>\n",
       "      <td>Member</td>\n",
       "      <td>Female</td>\n",
       "      <td>Sports and travel</td>\n",
       "      <td>86.31</td>\n",
       "      <td>7</td>\n",
       "      <td>30.2085</td>\n",
       "      <td>634.3785</td>\n",
       "      <td>...</td>\n",
       "      <td>1900-01-01 10:37:00</td>\n",
       "      <td>Ewallet</td>\n",
       "      <td>604.17</td>\n",
       "      <td>4.761905</td>\n",
       "      <td>30.2085</td>\n",
       "      <td>5.3</td>\n",
       "      <td>10</td>\n",
       "      <td>10 AM</td>\n",
       "      <td>2</td>\n",
       "      <td>Friday</td>\n",
       "    </tr>\n",
       "  </tbody>\n",
       "</table>\n",
       "<p>5 rows × 21 columns</p>\n",
       "</div>"
      ],
      "text/plain": [
       "    Invoice ID Branch       City Customer type  Gender  \\\n",
       "0  750-67-8428   Alex     Yangon        Member  Female   \n",
       "1  226-31-3081   Giza  Naypyitaw        Normal  Female   \n",
       "2  631-41-3108   Alex     Yangon        Normal  Female   \n",
       "3  123-19-1176   Alex     Yangon        Member  Female   \n",
       "4  373-73-7910   Alex     Yangon        Member  Female   \n",
       "\n",
       "             Product line  Unit price  Quantity   Tax 5%     Sales  ...  \\\n",
       "0       Health and beauty       74.69         7  26.1415  548.9715  ...   \n",
       "1  Electronic accessories       15.28         5   3.8200   80.2200  ...   \n",
       "2      Home and lifestyle       46.33         7  16.2155  340.5255  ...   \n",
       "3       Health and beauty       58.22         8  23.2880  489.0480  ...   \n",
       "4       Sports and travel       86.31         7  30.2085  634.3785  ...   \n",
       "\n",
       "                  Time      Payment    cogs  gross margin percentage  \\\n",
       "0  1900-01-01 13:08:00      Ewallet  522.83                 4.761905   \n",
       "1  1900-01-01 10:29:00         Cash   76.40                 4.761905   \n",
       "2  1900-01-01 13:23:00  Credit card  324.31                 4.761905   \n",
       "3  1900-01-01 20:33:00      Ewallet  465.76                 4.761905   \n",
       "4  1900-01-01 10:37:00      Ewallet  604.17                 4.761905   \n",
       "\n",
       "   gross income  Rating  Hour  Hour_label Month   Weekday  \n",
       "0       26.1415     9.1    13       01 PM     1  Saturday  \n",
       "1        3.8200     9.6    10       10 AM     3    Friday  \n",
       "2       16.2155     7.4    13       01 PM     3    Sunday  \n",
       "3       23.2880     8.4    20       08 PM     1    Sunday  \n",
       "4       30.2085     5.3    10       10 AM     2    Friday  \n",
       "\n",
       "[5 rows x 21 columns]"
      ]
     },
     "execution_count": 7,
     "metadata": {},
     "output_type": "execute_result"
    }
   ],
   "source": [
    "df.head()"
   ]
  },
  {
   "cell_type": "markdown",
   "id": "92d8c27a",
   "metadata": {},
   "source": [
    "## Prepare Text And Metadata"
   ]
  },
  {
   "cell_type": "code",
   "execution_count": 8,
   "id": "be476732",
   "metadata": {},
   "outputs": [
    {
     "name": "stdout",
     "output_type": "stream",
     "text": [
      "Total Documents 1000\n"
     ]
    }
   ],
   "source": [
    "docs = []\n",
    "for i, row in df.iterrows():\n",
    "    texts = (\n",
    "        f\"Invoice {row['Invoice ID']} | Branch: {row['Branch']} ({row['City']}) | \"\n",
    "        f\"Customer: {row['Customer type']} ({row['Gender']}) | \"\n",
    "        f\"Product: {row['Product line']} | Quantity: {row['Quantity']} | \"\n",
    "        f\"Unit Price: {row['Unit price']} | Sales: {row['Sales']} | \"\n",
    "        f\"Payment: {row['Payment']} | Date: {row['Date']} {row['Time']} \"\n",
    "        f\"| Rating: {row['Rating']}\"\n",
    "    )\n",
    "\n",
    "    meta = {col: row[col] for col in df.columns}  \n",
    "    docs.append({\"content\": texts, \"metadata\": meta})\n",
    "\n",
    "print('Total Documents', len(docs))"
   ]
  },
  {
   "cell_type": "markdown",
   "id": "973d28ab",
   "metadata": {},
   "source": [
    "## Chunking Data"
   ]
  },
  {
   "cell_type": "code",
   "execution_count": 9,
   "id": "faf17ad5",
   "metadata": {},
   "outputs": [
    {
     "name": "stdout",
     "output_type": "stream",
     "text": [
      "Total chunks: 1000\n"
     ]
    }
   ],
   "source": [
    "from langchain_text_splitters import RecursiveCharacterTextSplitter\n",
    "\n",
    "splitter = RecursiveCharacterTextSplitter(chunk_size=500, chunk_overlap=100)\n",
    "\n",
    "chunks = []\n",
    "\n",
    "for doc in docs:\n",
    "    pieces = splitter.split_text(doc['content'])\n",
    "    for i, piece in enumerate(pieces):\n",
    "        chunks.append({'content': piece, 'metadata': doc['metadata'], 'chunk_index': i})\n",
    "\n",
    "\n",
    "print('Total chunks:', len(chunks))"
   ]
  },
  {
   "cell_type": "code",
   "execution_count": 11,
   "id": "2a1567a2",
   "metadata": {},
   "outputs": [
    {
     "data": {
      "text/plain": [
       "{'content': 'Invoice 750-67-8428 | Branch: Alex (Yangon) | Customer: Member (Female) | Product: Health and beauty | Quantity: 7 | Unit Price: 74.69 | Sales: 548.9715 | Payment: Ewallet | Date: 2019-01-05 1900-01-01 13:08:00 | Rating: 9.1',\n",
       " 'metadata': {'Invoice ID': '750-67-8428',\n",
       "  'Branch': 'Alex',\n",
       "  'City': 'Yangon',\n",
       "  'Customer type': 'Member',\n",
       "  'Gender': 'Female',\n",
       "  'Product line': 'Health and beauty',\n",
       "  'Unit price': 74.69,\n",
       "  'Quantity': 7,\n",
       "  'Tax 5%': 26.1415,\n",
       "  'Sales': 548.9715,\n",
       "  'Date': '2019-01-05',\n",
       "  'Time': '1900-01-01 13:08:00',\n",
       "  'Payment': 'Ewallet',\n",
       "  'cogs': 522.83,\n",
       "  'gross margin percentage': 4.761904762,\n",
       "  'gross income': 26.1415,\n",
       "  'Rating': 9.1,\n",
       "  'Hour': 13,\n",
       "  'Hour_label': '01 PM',\n",
       "  'Month': 1,\n",
       "  'Weekday': 'Saturday'},\n",
       " 'chunk_index': 0}"
      ]
     },
     "execution_count": 11,
     "metadata": {},
     "output_type": "execute_result"
    }
   ],
   "source": [
    "chunks[0]"
   ]
  },
  {
   "cell_type": "markdown",
   "id": "4dfd00a0",
   "metadata": {},
   "source": [
    "## Embedding And Saving To PGVector"
   ]
  },
  {
   "cell_type": "code",
   "execution_count": 12,
   "id": "a877a9bc",
   "metadata": {},
   "outputs": [],
   "source": [
    "embedding = HuggingFaceEmbeddings(model_name=\"Qwen/Qwen3-Embedding-0.6B\")"
   ]
  },
  {
   "cell_type": "code",
   "execution_count": 13,
   "id": "5bb06b52",
   "metadata": {},
   "outputs": [],
   "source": [
    "from langchain_community.vectorstores import PGVector\n",
    "from uuid import uuid4\n",
    "\n",
    "connection = f\"postgresql+psycopg://{db_user}:{db_password}@{db_host}:{db_port}/{db_name}\"\n",
    "\n",
    "vectorstore = PGVector(\n",
    "    embedding_function=embedding,\n",
    "    collection_name=pg_collection,\n",
    "    connection_string=connection,\n",
    "    use_jsonb=True\n",
    ")\n"
   ]
  },
  {
   "cell_type": "code",
   "execution_count": 14,
   "id": "99cc726d",
   "metadata": {},
   "outputs": [
    {
     "name": "stdout",
     "output_type": "stream",
     "text": [
      "Chunks added successfully.\n"
     ]
    }
   ],
   "source": [
    "texts_chunks = [c['content'] for c in chunks]\n",
    "metas_chunks = [c['metadata'] for c in chunks]\n",
    "ids = [str(uuid4()) for _ in chunks]\n",
    "\n",
    "if texts_chunks:\n",
    "    vectorstore.add_texts(\n",
    "        texts=texts_chunks,\n",
    "        metadatas=metas_chunks,\n",
    "        ids=ids\n",
    "    )\n",
    "    print(\"Chunks added successfully.\")\n",
    "else:\n",
    "    print(\"No valid chunks to add.\")"
   ]
  },
  {
   "cell_type": "markdown",
   "id": "5c236c50",
   "metadata": {},
   "source": [
    "## Create Retrieval QA Chain"
   ]
  },
  {
   "cell_type": "code",
   "execution_count": null,
   "id": "13331836",
   "metadata": {},
   "outputs": [],
   "source": [
    "from langchain.prompts import PromptTemplate\n",
    "from langchain.chat_models import init_chat_model\n",
    "import getpass\n",
    "\n",
    "retriever = vectorstore.as_retriever(search_kwargs={'k': 5})\n",
    "GROQ_API_KEY = os.getenv(\"GROQ_API_KEY\")\n",
    "llm = ChatGroq(api_key=GROQ_API_KEY, model='llama-3.1-8b-instant')\n",
    "\n",
    "prompt_template = \"\"\"\n",
    "You are an expert business assistant for a retail store owner.\n",
    "Your goal is to help the admin or owner analyze sales data, invoices, and business performance.\n",
    "\n",
    "You have access to the following sales and transaction information:\n",
    "{context}\n",
    "\n",
    "Admin query: {question}\n",
    "\n",
    "Answer as a professional business analyst:\n",
    "- Provide clear insights based on the available data.\n",
    "- Mention key fields such as Invoice ID, Branch, City, Product line, Quantity, Sales, Tax, Payment method, Date, and Rating if relevant.\n",
    "- If the query is about totals or summaries, calculate or explain trends (e.g., total sales, average rating, best-selling product line).\n",
    "- If exact data is not available, suggest related information from the context.\n",
    "- Keep the answer concise, accurate, and suitable for a business decision-maker.\n",
    "\"\"\"\n",
    "PROMPT = PromptTemplate(template=prompt_template, \n",
    "                        input_variables=[\"context\", \"question\"])"
   ]
  },
  {
   "cell_type": "code",
   "execution_count": 21,
   "id": "2f65dec8",
   "metadata": {},
   "outputs": [
    {
     "name": "stdout",
     "output_type": "stream",
     "text": [
      "RAG chain created successfully.\n"
     ]
    }
   ],
   "source": [
    "from langchain.schema.runnable import RunnablePassthrough\n",
    "from langchain.schema.runnable import RunnableLambda\n",
    "\n",
    "def format_docs(docs):\n",
    "    out = []\n",
    "    for i, d in enumerate(docs):\n",
    "        src = d.metadata.get('product_id', \"\")\n",
    "        out.append(f\"[{i}] {src}\\n{d.page_content}\")\n",
    "    return \"\\n\\n\".join(out)\n",
    "\n",
    "if llm:\n",
    "    rag_chain = (\n",
    "         {\n",
    "            'context': retriever | RunnableLambda(format_docs),\n",
    "            'question': RunnablePassthrough()\n",
    "         } \n",
    "         | PROMPT\n",
    "         | llm\n",
    "    )\n",
    "    print(\"RAG chain created successfully.\")\n",
    "else :\n",
    "    rag_chain = None\n",
    "    print(\"Failed to create RAG chain.\")"
   ]
  },
  {
   "cell_type": "code",
   "execution_count": 18,
   "id": "dfcd32c6",
   "metadata": {},
   "outputs": [],
   "source": [
    "def ask_customer_service(question:str):\n",
    "    if rag_chain:\n",
    "        response = rag_chain.invoke(question)\n",
    "        return response.content if hasattr(response, \"content\") else str(response)\n",
    "    else:\n",
    "        return \"Sorry, I can't assist with that.\""
   ]
  },
  {
   "cell_type": "code",
   "execution_count": 25,
   "id": "5f75b9e8",
   "metadata": {},
   "outputs": [
    {
     "name": "stdout",
     "output_type": "stream",
     "text": [
      "**Invoice 718-57-9773 Details:**\n",
      "\n",
      "Based on the provided sales data, I've extracted the following information related to Invoice 718-57-9773:\n",
      "\n",
      "- **Invoice ID:** 718-57-9773\n",
      "- **Branch:** Giza (Naypyitaw)\n",
      "- **Product Line:** Sports and travel\n",
      "- **Quantity:** 10 units\n",
      "- **Unit Price:** $49.33\n",
      "- **Sales (Gross):** $517.965\n",
      "- **Payment Method:** Credit card\n",
      "- **Date:** 2019-02-03, 16:40:00\n",
      "- **Rating:** 9.4/10\n",
      "\n",
      "**Gross Sales:**\n",
      "The gross sales for this invoice are $517.965.\n",
      "\n",
      "**Key Insights:**\n",
      "This transaction represents a significant sale in the Sports and travel product line, with a high rating of 9.4/10. The sales amount is substantial, suggesting a high-value customer engagement.\n"
     ]
    }
   ],
   "source": [
    "print(ask_customer_service(\"when Invoice 718-57-9773? buy and how much our gross sales\"))"
   ]
  }
 ],
 "metadata": {
  "kernelspec": {
   "display_name": "myvenv",
   "language": "python",
   "name": "python3"
  },
  "language_info": {
   "codemirror_mode": {
    "name": "ipython",
    "version": 3
   },
   "file_extension": ".py",
   "mimetype": "text/x-python",
   "name": "python",
   "nbconvert_exporter": "python",
   "pygments_lexer": "ipython3",
   "version": "3.11.9"
  }
 },
 "nbformat": 4,
 "nbformat_minor": 5
}
